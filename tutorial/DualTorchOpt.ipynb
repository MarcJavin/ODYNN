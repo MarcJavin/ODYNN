{
	"cells": [
		{
			"cell_type": "code",
			"execution_count": 1,
			"metadata": {

			},
			"outputs": [],
			"source": [
				"%load_ext autoreload"
			]
		},
		{
			"cell_type": "code",
			"execution_count": 2,
			"metadata": {

			},
			"outputs": [],
			"source": [
				"%autoreload 2\n",
				"import sys\n",
				"sys.path.insert(0, '..')\n",
				"from odynn.circuit import Circuit\n",
				"from odynn.models import LeakyIntegrate, ChemSyn\n",
				"import numpy as np\n",
				"import torch\n",
				"\n",
				"DT = 1\n",
				"N_parallel = 200\n",
				"connections = [(0,1) , (1,0)]\n",
				"ts = np.arange(0.0, 1500., DT)\n",
				"\n",
				"def get_circ():\n",
				"    n = LeakyIntegrate.create_default(2, N_parallel, tensors=True, dt=DT)\n",
				"    p = ChemSyn.get_random(1,N_parallel)\n",
				"    p = {k: np.concatenate([v,v]) for k,v in p.items()}\n",
				"    s = ChemSyn([c[0] for c in connections], [c[1] for c in connections], \n",
				"                              init_p=p, tensors=True, dt=DT)\n",
				"    return Circuit(n, s)"
			]
		},
		{
			"cell_type": "code",
			"execution_count": 3,
			"metadata": {

			},
			"outputs": [
				{
					"name": "stdout",
					"output_type": "stream",
					"text": [
						"torch.Size([1500, 2])\n"
					]
				},
				{
					"data": {
						"text/plain": [
							"<Figure size 720x216 with 1 Axes>"
						]
					},
					"metadata": {
						"needs_background": "light"
					},
					"output_type": "display_data"
				},
				{
					"data": {
						"text/plain": [
							"<Figure size 720x216 with 1 Axes>"
						]
					},
					"metadata": {
						"needs_background": "light"
					},
					"output_type": "display_data"
				},
				{
					"data": {
						"text/plain": [
							"<Figure size 720x216 with 1 Axes>"
						]
					},
					"metadata": {
						"needs_background": "light"
					},
					"output_type": "display_data"
				},
				{
					"name": "stdout",
					"output_type": "stream",
					"text": [
						"-40.0 -80.0\n"
					]
				},
				{
					"data": {
						"text/plain": [
							"<Figure size 432x288 with 1 Axes>"
						]
					},
					"metadata": {
						"needs_background": "light"
					},
					"output_type": "display_data"
				}
			],
			"source": [
				"import pylab as plt\n",
				"import seaborn as sns\n",
				"import pickle\n",
				"\n",
				"with open('cur', 'rb') as f:\n",
				"        i_f = pickle.load(f)\n",
				"def create():\n",
				"    i_f = np.random.normal(size=(len(ts), 2))\n",
				"    i_f[:,0] = np.convolve(i_f[:,0], [1/8 for _ in range(20)], 'same')\n",
				"    i_f[:,1] = np.convolve(i_f[:,1], [1/8 for _ in range(20)], 'same')\n",
				"    with open('cur2', 'wb') as f:\n",
				"        pickle.dump(i_f, f)\n",
				"    return i_f\n",
				"i_forced = torch.Tensor(i_f)# 3 * torch.randn(i_f.shape)#torch.Tensor(i_f) + 2 * torch.randn(i_f.shape)\n",
				"print(i_forced.shape)\n",
				"\n",
				"def plot(tr, c=None):\n",
				"    plt.figure(figsize=(10,3))\n",
				"    if c is None:\n",
				"        plt.plot(tr)\n",
				"    else:\n",
				"        plt.plot(tr, c)\n",
				"    plt.xlabel('time (s)')\n",
				"    sns.despine()\n",
				"    plt.show()\n",
				"    \n",
				"plot(i_forced.numpy()[:,0])\n",
				"plot(i_forced.numpy()[:,1], 'darkorange')\n",
				"plot(i_forced.numpy())\n",
				"\n",
				"x = np.arange(-80., -40.)\n",
				"def obj(x):\n",
				"    return 225 / (85 + x) - 85\n",
				"\n",
				"plt.plot(x, obj(x))\n",
				"print(obj(-80), obj(-40))\n",
				"plt.show()"
			]
		},
		{
			"cell_type": "code",
			"execution_count": 41,
			"metadata": {
				"scrolled": false
			},
			"outputs": [
				{
					"name": "stderr",
					"output_type": "stream",
					"text": [
						"\r",
						"  0%|          | 0/501 [00:00<?, ?it/s]"
					]
				},
				{
					"name": "stdout",
					"output_type": "stream",
					"text": [
						"(1, 2)\n",
						"(1, 1, 2, 200)\n",
						"635.3706 406.08115\n",
						"{'G': tensor(1.7343, grad_fn=<SelectBackward>), 'mdp': tensor(-40.6437, grad_fn=<SelectBackward>), 'scale': tensor(9.0189, grad_fn=<SelectBackward>), 'E': tensor(-80.9934, grad_fn=<SelectBackward>)}\n"
					]
				},
				{
					"data": {
						"text/plain": [
							"<Figure size 720x360 with 1 Axes>"
						]
					},
					"metadata": {
						"needs_background": "light"
					},
					"output_type": "display_data"
				},
				{
					"data": {
						"text/plain": [
							"<Figure size 432x288 with 2 Axes>"
						]
					},
					"metadata": {
						"needs_background": "light"
					},
					"output_type": "display_data"
				},
				{
					"name": "stderr",
					"output_type": "stream",
					"text": [
						"  5%|▍         | 25/501 [00:20<06:16,  1.26it/s]"
					]
				},
				{
					"name": "stdout",
					"output_type": "stream",
					"text": [
						"492.12888 298.70105\n",
						"{'G': tensor(2., grad_fn=<SelectBackward>), 'mdp': tensor(-51.3774, grad_fn=<SelectBackward>), 'scale': tensor(4.1315, grad_fn=<SelectBackward>), 'E': tensor(-64.6009, grad_fn=<SelectBackward>)}\n"
					]
				},
				{
					"data": {
						"text/plain": [
							"<Figure size 720x360 with 1 Axes>"
						]
					},
					"metadata": {
						"needs_background": "light"
					},
					"output_type": "display_data"
				},
				{
					"data": {
						"text/plain": [
							"<Figure size 432x288 with 2 Axes>"
						]
					},
					"metadata": {
						"needs_background": "light"
					},
					"output_type": "display_data"
				},
				{
					"name": "stderr",
					"output_type": "stream",
					"text": [
						" 10%|▉         | 50/501 [00:40<06:22,  1.18it/s]"
					]
				},
				{
					"name": "stdout",
					"output_type": "stream",
					"text": [
						"473.11533 292.91025\n",
						"{'G': tensor(2., grad_fn=<SelectBackward>), 'mdp': tensor(-47.2450, grad_fn=<SelectBackward>), 'scale': tensor(5.5186, grad_fn=<SelectBackward>), 'E': tensor(-67.8693, grad_fn=<SelectBackward>)}\n"
					]
				},
				{
					"data": {
						"text/plain": [
							"<Figure size 720x360 with 1 Axes>"
						]
					},
					"metadata": {
						"needs_background": "light"
					},
					"output_type": "display_data"
				},
				{
					"data": {
						"text/plain": [
							"<Figure size 432x288 with 2 Axes>"
						]
					},
					"metadata": {
						"needs_background": "light"
					},
					"output_type": "display_data"
				},
				{
					"name": "stderr",
					"output_type": "stream",
					"text": [
						" 15%|█▍        | 75/501 [01:03<06:16,  1.13it/s]"
					]
				},
				{
					"name": "stdout",
					"output_type": "stream",
					"text": [
						"460.39258 244.79428\n",
						"{'G': tensor(2., grad_fn=<SelectBackward>), 'mdp': tensor(-51.1650, grad_fn=<SelectBackward>), 'scale': tensor(3.9461, grad_fn=<SelectBackward>), 'E': tensor(-64.6729, grad_fn=<SelectBackward>)}\n"
					]
				},
				{
					"data": {
						"text/plain": [
							"<Figure size 720x360 with 1 Axes>"
						]
					},
					"metadata": {
						"needs_background": "light"
					},
					"output_type": "display_data"
				},
				{
					"data": {
						"text/plain": [
							"<Figure size 432x288 with 2 Axes>"
						]
					},
					"metadata": {
						"needs_background": "light"
					},
					"output_type": "display_data"
				},
				{
					"name": "stderr",
					"output_type": "stream",
					"text": [
						" 20%|█▉        | 100/501 [01:26<06:42,  1.00s/it]"
					]
				},
				{
					"name": "stdout",
					"output_type": "stream",
					"text": [
						"448.6461 238.52786\n",
						"{'G': tensor(2., grad_fn=<SelectBackward>), 'mdp': tensor(-35.5126, grad_fn=<SelectBackward>), 'scale': tensor(1.3620, grad_fn=<SelectBackward>), 'E': tensor(-95.8938, grad_fn=<SelectBackward>)}\n"
					]
				},
				{
					"data": {
						"text/plain": [
							"<Figure size 720x360 with 1 Axes>"
						]
					},
					"metadata": {
						"needs_background": "light"
					},
					"output_type": "display_data"
				},
				{
					"data": {
						"text/plain": [
							"<Figure size 432x288 with 2 Axes>"
						]
					},
					"metadata": {
						"needs_background": "light"
					},
					"output_type": "display_data"
				},
				{
					"name": "stderr",
					"output_type": "stream",
					"text": [
						" 25%|██▍       | 125/501 [01:53<06:36,  1.05s/it]"
					]
				},
				{
					"name": "stdout",
					"output_type": "stream",
					"text": [
						"439.8358 104.96511\n",
						"{'G': tensor(2., grad_fn=<SelectBackward>), 'mdp': tensor(-36.4125, grad_fn=<SelectBackward>), 'scale': tensor(1.0994, grad_fn=<SelectBackward>), 'E': tensor(-96.8795, grad_fn=<SelectBackward>)}\n"
					]
				},
				{
					"data": {
						"text/plain": [
							"<Figure size 720x360 with 1 Axes>"
						]
					},
					"metadata": {
						"needs_background": "light"
					},
					"output_type": "display_data"
				},
				{
					"data": {
						"text/plain": [
							"<Figure size 432x288 with 2 Axes>"
						]
					},
					"metadata": {
						"needs_background": "light"
					},
					"output_type": "display_data"
				},
				{
					"name": "stderr",
					"output_type": "stream",
					"text": [
						" 30%|██▉       | 150/501 [02:19<05:48,  1.01it/s]"
					]
				},
				{
					"name": "stdout",
					"output_type": "stream",
					"text": [
						"431.5434 14.626478\n",
						"{'G': tensor(2., grad_fn=<SelectBackward>), 'mdp': tensor(-37.2106, grad_fn=<SelectBackward>), 'scale': tensor(0.8318, grad_fn=<SelectBackward>), 'E': tensor(-97.7718, grad_fn=<SelectBackward>)}\n"
					]
				},
				{
					"data": {
						"text/plain": [
							"<Figure size 720x360 with 1 Axes>"
						]
					},
					"metadata": {
						"needs_background": "light"
					},
					"output_type": "display_data"
				},
				{
					"data": {
						"text/plain": [
							"<Figure size 432x288 with 2 Axes>"
						]
					},
					"metadata": {
						"needs_background": "light"
					},
					"output_type": "display_data"
				},
				{
					"name": "stderr",
					"output_type": "stream",
					"text": [
						" 35%|███▍      | 175/501 [02:45<05:16,  1.03it/s]"
					]
				},
				{
					"name": "stdout",
					"output_type": "stream",
					"text": [
						"425.0634 1.6471858\n",
						"{'G': tensor(2., grad_fn=<SelectBackward>), 'mdp': tensor(-37.5653, grad_fn=<SelectBackward>), 'scale': tensor(0.8010, grad_fn=<SelectBackward>), 'E': tensor(-98.1667, grad_fn=<SelectBackward>)}\n"
					]
				},
				{
					"data": {
						"text/plain": [
							"<Figure size 720x360 with 1 Axes>"
						]
					},
					"metadata": {
						"needs_background": "light"
					},
					"output_type": "display_data"
				},
				{
					"data": {
						"text/plain": [
							"<Figure size 432x288 with 2 Axes>"
						]
					},
					"metadata": {
						"needs_background": "light"
					},
					"output_type": "display_data"
				},
				{
					"name": "stderr",
					"output_type": "stream",
					"text": [
						" 40%|███▉      | 200/501 [03:10<04:50,  1.04it/s]"
					]
				},
				{
					"name": "stdout",
					"output_type": "stream",
					"text": [
						"419.27512 0.31156388\n",
						"{'G': tensor(1.9952, grad_fn=<SelectBackward>), 'mdp': tensor(-37.5507, grad_fn=<SelectBackward>), 'scale': tensor(0.7796, grad_fn=<SelectBackward>), 'E': tensor(-98.1613, grad_fn=<SelectBackward>)}\n"
					]
				},
				{
					"data": {
						"text/plain": [
							"<Figure size 720x360 with 1 Axes>"
						]
					},
					"metadata": {
						"needs_background": "light"
					},
					"output_type": "display_data"
				},
				{
					"data": {
						"text/plain": [
							"<Figure size 432x288 with 2 Axes>"
						]
					},
					"metadata": {
						"needs_background": "light"
					},
					"output_type": "display_data"
				},
				{
					"name": "stderr",
					"output_type": "stream",
					"text": [
						" 45%|████▍     | 225/501 [03:35<04:24,  1.04it/s]"
					]
				},
				{
					"name": "stdout",
					"output_type": "stream",
					"text": [
						"413.92212 0.28862375\n",
						"{'G': tensor(1.9928, grad_fn=<SelectBackward>), 'mdp': tensor(-37.5456, grad_fn=<SelectBackward>), 'scale': tensor(0.7755, grad_fn=<SelectBackward>), 'E': tensor(-98.1576, grad_fn=<SelectBackward>)}\n"
					]
				},
				{
					"data": {
						"text/plain": [
							"<Figure size 720x360 with 1 Axes>"
						]
					},
					"metadata": {
						"needs_background": "light"
					},
					"output_type": "display_data"
				},
				{
					"data": {
						"text/plain": [
							"<Figure size 432x288 with 2 Axes>"
						]
					},
					"metadata": {
						"needs_background": "light"
					},
					"output_type": "display_data"
				},
				{
					"name": "stderr",
					"output_type": "stream",
					"text": [
						" 50%|████▉     | 250/501 [04:01<04:05,  1.02it/s]"
					]
				},
				{
					"name": "stdout",
					"output_type": "stream",
					"text": [
						"408.23547 0.28737354\n",
						"{'G': tensor(1.9937, grad_fn=<SelectBackward>), 'mdp': tensor(-37.5466, grad_fn=<SelectBackward>), 'scale': tensor(0.7736, grad_fn=<SelectBackward>), 'E': tensor(-98.1593, grad_fn=<SelectBackward>)}\n"
					]
				},
				{
					"data": {
						"text/plain": [
							"<Figure size 720x360 with 1 Axes>"
						]
					},
					"metadata": {
						"needs_background": "light"
					},
					"output_type": "display_data"
				},
				{
					"data": {
						"text/plain": [
							"<Figure size 432x288 with 2 Axes>"
						]
					},
					"metadata": {
						"needs_background": "light"
					},
					"output_type": "display_data"
				},
				{
					"name": "stderr",
					"output_type": "stream",
					"text": [
						" 55%|█████▍    | 275/501 [04:25<03:41,  1.02it/s]"
					]
				},
				{
					"name": "stdout",
					"output_type": "stream",
					"text": [
						"401.93857 0.28637484\n",
						"{'G': tensor(1.9947, grad_fn=<SelectBackward>), 'mdp': tensor(-37.5480, grad_fn=<SelectBackward>), 'scale': tensor(0.7722, grad_fn=<SelectBackward>), 'E': tensor(-98.1612, grad_fn=<SelectBackward>)}\n"
					]
				},
				{
					"data": {
						"text/plain": [
							"<Figure size 720x360 with 1 Axes>"
						]
					},
					"metadata": {
						"needs_background": "light"
					},
					"output_type": "display_data"
				},
				{
					"data": {
						"text/plain": [
							"<Figure size 432x288 with 2 Axes>"
						]
					},
					"metadata": {
						"needs_background": "light"
					},
					"output_type": "display_data"
				},
				{
					"name": "stderr",
					"output_type": "stream",
					"text": [
						" 60%|█████▉    | 300/501 [04:50<03:22,  1.01s/it]"
					]
				},
				{
					"name": "stdout",
					"output_type": "stream",
					"text": [
						"398.5346 0.2858875\n",
						"{'G': tensor(1.9955, grad_fn=<SelectBackward>), 'mdp': tensor(-37.5491, grad_fn=<SelectBackward>), 'scale': tensor(0.7709, grad_fn=<SelectBackward>), 'E': tensor(-98.1627, grad_fn=<SelectBackward>)}\n"
					]
				},
				{
					"data": {
						"text/plain": [
							"<Figure size 720x360 with 1 Axes>"
						]
					},
					"metadata": {
						"needs_background": "light"
					},
					"output_type": "display_data"
				},
				{
					"data": {
						"text/plain": [
							"<Figure size 432x288 with 2 Axes>"
						]
					},
					"metadata": {
						"needs_background": "light"
					},
					"output_type": "display_data"
				},
				{
					"name": "stderr",
					"output_type": "stream",
					"text": [
						" 65%|██████▍   | 325/501 [05:16<02:52,  1.02it/s]"
					]
				},
				{
					"name": "stdout",
					"output_type": "stream",
					"text": [
						"397.41406 0.28555754\n",
						"{'G': tensor(1.9960, grad_fn=<SelectBackward>), 'mdp': tensor(-37.5498, grad_fn=<SelectBackward>), 'scale': tensor(0.7698, grad_fn=<SelectBackward>), 'E': tensor(-98.1637, grad_fn=<SelectBackward>)}\n"
					]
				},
				{
					"data": {
						"text/plain": [
							"<Figure size 720x360 with 1 Axes>"
						]
					},
					"metadata": {
						"needs_background": "light"
					},
					"output_type": "display_data"
				},
				{
					"data": {
						"text/plain": [
							"<Figure size 432x288 with 2 Axes>"
						]
					},
					"metadata": {
						"needs_background": "light"
					},
					"output_type": "display_data"
				},
				{
					"name": "stderr",
					"output_type": "stream",
					"text": [
						" 70%|██████▉   | 350/501 [05:41<02:27,  1.02it/s]"
					]
				},
				{
					"name": "stdout",
					"output_type": "stream",
					"text": [
						"386.93997 0.28533626\n",
						"{'G': tensor(1.9965, grad_fn=<SelectBackward>), 'mdp': tensor(-37.5504, grad_fn=<SelectBackward>), 'scale': tensor(0.7688, grad_fn=<SelectBackward>), 'E': tensor(-98.1646, grad_fn=<SelectBackward>)}\n"
					]
				},
				{
					"data": {
						"text/plain": [
							"<Figure size 720x360 with 1 Axes>"
						]
					},
					"metadata": {
						"needs_background": "light"
					},
					"output_type": "display_data"
				},
				{
					"data": {
						"text/plain": [
							"<Figure size 432x288 with 2 Axes>"
						]
					},
					"metadata": {
						"needs_background": "light"
					},
					"output_type": "display_data"
				},
				{
					"name": "stderr",
					"output_type": "stream",
					"text": [
						" 75%|███████▍  | 375/501 [06:06<02:01,  1.04it/s]"
					]
				},
				{
					"name": "stdout",
					"output_type": "stream",
					"text": [
						"379.39276 0.28506652\n",
						"{'G': tensor(1.9833, grad_fn=<SelectBackward>), 'mdp': tensor(-37.6256, grad_fn=<SelectBackward>), 'scale': tensor(0.7596, grad_fn=<SelectBackward>), 'E': tensor(-96.7728, grad_fn=<SelectBackward>)}\n"
					]
				},
				{
					"data": {
						"text/plain": [
							"<Figure size 720x360 with 1 Axes>"
						]
					},
					"metadata": {
						"needs_background": "light"
					},
					"output_type": "display_data"
				},
				{
					"data": {
						"text/plain": [
							"<Figure size 432x288 with 2 Axes>"
						]
					},
					"metadata": {
						"needs_background": "light"
					},
					"output_type": "display_data"
				},
				{
					"name": "stderr",
					"output_type": "stream",
					"text": [
						" 80%|███████▉  | 400/501 [06:31<01:37,  1.04it/s]"
					]
				},
				{
					"name": "stdout",
					"output_type": "stream",
					"text": [
						"372.12427 0.28466773\n",
						"{'G': tensor(1.9839, grad_fn=<SelectBackward>), 'mdp': tensor(-37.6270, grad_fn=<SelectBackward>), 'scale': tensor(0.7581, grad_fn=<SelectBackward>), 'E': tensor(-96.7744, grad_fn=<SelectBackward>)}\n"
					]
				},
				{
					"data": {
						"text/plain": [
							"<Figure size 720x360 with 1 Axes>"
						]
					},
					"metadata": {
						"needs_background": "light"
					},
					"output_type": "display_data"
				},
				{
					"data": {
						"text/plain": [
							"<Figure size 432x288 with 2 Axes>"
						]
					},
					"metadata": {
						"needs_background": "light"
					},
					"output_type": "display_data"
				},
				{
					"name": "stderr",
					"output_type": "stream",
					"text": [
						" 85%|████████▍ | 425/501 [06:56<01:12,  1.04it/s]"
					]
				},
				{
					"name": "stdout",
					"output_type": "stream",
					"text": [
						"367.20282 0.28462002\n",
						"{'G': tensor(1.9838, grad_fn=<SelectBackward>), 'mdp': tensor(-37.6267, grad_fn=<SelectBackward>), 'scale': tensor(0.7581, grad_fn=<SelectBackward>), 'E': tensor(-96.7740, grad_fn=<SelectBackward>)}\n"
					]
				},
				{
					"data": {
						"text/plain": [
							"<Figure size 720x360 with 1 Axes>"
						]
					},
					"metadata": {
						"needs_background": "light"
					},
					"output_type": "display_data"
				},
				{
					"data": {
						"text/plain": [
							"<Figure size 432x288 with 2 Axes>"
						]
					},
					"metadata": {
						"needs_background": "light"
					},
					"output_type": "display_data"
				},
				{
					"name": "stderr",
					"output_type": "stream",
					"text": [
						" 90%|████████▉ | 450/501 [07:20<00:49,  1.03it/s]"
					]
				},
				{
					"name": "stdout",
					"output_type": "stream",
					"text": [
						"361.29895 0.28461677\n",
						"{'G': tensor(1.9839, grad_fn=<SelectBackward>), 'mdp': tensor(-37.6267, grad_fn=<SelectBackward>), 'scale': tensor(0.7581, grad_fn=<SelectBackward>), 'E': tensor(-96.7739, grad_fn=<SelectBackward>)}\n"
					]
				},
				{
					"data": {
						"text/plain": [
							"<Figure size 720x360 with 1 Axes>"
						]
					},
					"metadata": {
						"needs_background": "light"
					},
					"output_type": "display_data"
				},
				{
					"data": {
						"text/plain": [
							"<Figure size 432x288 with 2 Axes>"
						]
					},
					"metadata": {
						"needs_background": "light"
					},
					"output_type": "display_data"
				},
				{
					"name": "stderr",
					"output_type": "stream",
					"text": [
						" 95%|█████████▍| 475/501 [07:45<00:25,  1.04it/s]"
					]
				},
				{
					"name": "stdout",
					"output_type": "stream",
					"text": [
						"357.2231 0.2846095\n",
						"{'G': tensor(1.9839, grad_fn=<SelectBackward>), 'mdp': tensor(-37.6267, grad_fn=<SelectBackward>), 'scale': tensor(0.7581, grad_fn=<SelectBackward>), 'E': tensor(-96.7737, grad_fn=<SelectBackward>)}\n"
					]
				},
				{
					"data": {
						"text/plain": [
							"<Figure size 720x360 with 1 Axes>"
						]
					},
					"metadata": {
						"needs_background": "light"
					},
					"output_type": "display_data"
				},
				{
					"data": {
						"text/plain": [
							"<Figure size 432x288 with 2 Axes>"
						]
					},
					"metadata": {
						"needs_background": "light"
					},
					"output_type": "display_data"
				},
				{
					"name": "stderr",
					"output_type": "stream",
					"text": [
						"100%|█████████▉| 500/501 [08:11<00:01,  1.02s/it]"
					]
				},
				{
					"name": "stdout",
					"output_type": "stream",
					"text": [
						"348.17114 0.2846076\n",
						"{'G': tensor(1.9839, grad_fn=<SelectBackward>), 'mdp': tensor(-37.6267, grad_fn=<SelectBackward>), 'scale': tensor(0.7581, grad_fn=<SelectBackward>), 'E': tensor(-96.7735, grad_fn=<SelectBackward>)}\n"
					]
				},
				{
					"data": {
						"text/plain": [
							"<Figure size 720x360 with 1 Axes>"
						]
					},
					"metadata": {
						"needs_background": "light"
					},
					"output_type": "display_data"
				},
				{
					"data": {
						"text/plain": [
							"<Figure size 432x288 with 2 Axes>"
						]
					},
					"metadata": {
						"needs_background": "light"
					},
					"output_type": "display_data"
				},
				{
					"name": "stderr",
					"output_type": "stream",
					"text": [
						"100%|██████████| 501/501 [08:12<00:00,  1.17s/it]\n"
					]
				},
				{
					"data": {
						"text/plain": [
							"<Figure size 432x288 with 1 Axes>"
						]
					},
					"metadata": {
						"needs_background": "light"
					},
					"output_type": "display_data"
				}
			],
			"source": [
				"from tqdm import tqdm\n",
				"import seaborn as sns\n",
				"\n",
				"init = np.array([[-40,-80]])\n",
				"print(init.shape)\n",
				"init = np.repeat(init[:, :, None], N_parallel, axis=-1)\n",
				"init = init[:, None]\n",
				"print(init.shape)\n",
				"\n",
				"\"\"\"Optimize correlation\"\"\"\n",
				"\n",
				"circuit = get_circ()\n",
				"losses = []\n",
				"gs = []\n",
				"# Define loss function\n",
				"loss_fn = torch.nn.MSELoss(reduction='mean')\n",
				"learning_rate = 0.1\n",
				"optimizer = torch.optim.Adam(circuit._synapses.parameters.values(), lr=learning_rate)\n",
				"# print(circuit._synapses.parameters)\n",
				"\n",
				"for t in tqdm(range(501)):\n",
				"    y = circuit.calculate(i_forced, init)\n",
				"    # Compute MSE\n",
				"    \n",
				"#     v0 = y[:,0,0] - torch.mean(y[:,0,0], dim=0)\n",
				"#     v1 = y[:,0,1] - torch.mean(y[:,0,1], dim=0)\n",
				"\n",
				"#     cost = torch.sum(v0 * v1, dim=0) / (torch.sqrt(torch.sum(v0 ** 2, dim=0)) * torch.sqrt(torch.sum(v1 ** 2, dim=0)))\n",
				"#     loss = (cost - torch.Tensor([-1])).pow(2)\n",
				"\n",
				"    loss = (obj(y[:,0,0]) - y[:,0,1]).pow(2).mean(0)\n",
				"    \n",
				"    # Equal max\n",
				"    loss += (y[:,0,0].max(0)[0] - y[:,0,1].max(0)[0]).pow(2)\n",
				"    loss += (y[:,0,0].min(0)[0] - y[:,0,1].min(0)[0]).pow(2)\n",
				"#     loss += (y[10:,0,0].min(0)[0] + 80).pow(2)\n",
				"#     loss += (y[10:,0,1].max(0)[0] + 40).pow(2)\n",
				"#     loss += (y[10:,0,1].min(0)[0] + 80).pow(2)\n",
				"    \n",
				"    losses.append(loss)\n",
				"    \n",
				"    gs.append(circuit._synapses.parameters['G'][0].detach().numpy())\n",
				"    #Upgrade variables\n",
				"    optimizer.zero_grad()\n",
				"    loss.mean().backward()\n",
				"    with torch.no_grad():\n",
				"        for p in circuit._synapses.parameters.values():\n",
				"            p.grad = torch.stack([p.grad.sum(0), p.grad.sum(0)])\n",
				"    optimizer.step()\n",
				"\n",
				"    circuit.apply_constraints()\n",
				"    \n",
				"    if t%25 == 0:\n",
				"        print(loss.mean().detach().numpy(), loss.min().detach().numpy())\n",
				"        best = loss.argmin()\n",
				"        print({k: v[0,best] for k,v in circuit._synapses.parameters.items()})\n",
				"#         for n in range(N_parallel):\n",
				"        plt.subplot(211)\n",
				"        plt.figure(figsize=(10,5))\n",
				"        plt.plot(y[:,0,:,best].detach().cpu().numpy())\n",
				"        plt.title('Voltage (mV)')\n",
				"        plt.subplot(212)\n",
				"        plt.plot(i_forced.numpy())\n",
				"        plt.plot(y[:,0,0,best].detach().cpu().numpy(), obj(y[:,0,0,best].detach().cpu().numpy()), 'r')\n",
				"        plt.plot(y[:,0,0,best].detach().cpu().numpy(), y[:,0,1,best].detach().cpu().numpy())\n",
				"        sns.despine(bottom=True)\n",
				"        plt.xticks([])\n",
				"        plt.show()\n",
				"        data0={k: v.detach().numpy()[0] for k,v in circuit._synapses.parameters.items()}\n",
				"        plt.scatter(data0['G'], data0['mdp'], c=data0['E'])\n",
				"        plt.colorbar()\n",
				"#         sns.scatterplot(x='G', y='mdp', hue='E', data={k: v.detach().numpy()[0] for k,v in circuit._synapses.parameters.items()})\n",
				"#         sns.scatterplot(x='G', y='mdp', hue='E', data={k: v.detach().numpy()[1] for k,v in circuit._synapses.parameters.items()})\n",
				"#         print(np.corrcoef(i_forced[:,0].detach().cpu().numpy(), y[:,0].detach().cpu().numpy()) )\n",
				"#         plt.plot(i.detach().numpy())\n",
				"        plt.xscale('log')\n",
				"        plt.show()\n",
				"        plt.close()\n",
				"\n",
				"plt.plot([l.detach().numpy() for l in losses], linewidth=0.2)\n",
				"plt.yscale('log')\n",
				"plt.show()"
			]
		},
		{
			"cell_type": "code",
			"execution_count": 20,
			"metadata": {
				"scrolled": true
			},
			"outputs": [
				{
					"name": "stdout",
					"output_type": "stream",
					"text": [
						"tensor([-0.0748], grad_fn=<DivBackward0>) tensor(14.6043, grad_fn=<MeanBackward1>) tensor(14.6043, grad_fn=<MinBackward1>)\n"
					]
				},
				{
					"data": {
						"text/plain": [
							"[<matplotlib.lines.Line2D at 0x7f8fd02b9898>,\n",
							" <matplotlib.lines.Line2D at 0x7f8fd02b99e8>]"
						]
					},
					"metadata": {

					},
					"output_type": "execute_result",
					"execution_count": 20
				},
				{
					"data": {
						"text/plain": [
							"<Figure size 432x288 with 1 Axes>"
						]
					},
					"metadata": {
						"needs_background": "light"
					},
					"output_type": "display_data"
				}
			],
			"source": [
				"# print(best)\n",
				"# for n in range(N_parallel):\n",
				"#     print(n)\n",
				"#     plt.subplot(211)\n",
				"#     plt.plot(y[:,0,:,n].detach().cpu().numpy())\n",
				"#     plt.subplot(212)\n",
				"#     plt.plot(i_forced.numpy())\n",
				"#     plt.show()\n",
				"i_f = np.random.normal(size=(len(ts)*10, 2))\n",
				"i_f[:,0] = np.convolve(i_f[:,0], [1 for _ in range(30)], 'same')\n",
				"i_f[:,1] = np.convolve(i_f[:,1], [1 for _ in range(30)], 'same')\n",
				"plt.plot(i_f)"
			]
		},
		{
			"cell_type": "code",
			"execution_count": 39,
			"metadata": {

			},
			"outputs": [
				{
					"name": "stdout",
					"output_type": "stream",
					"text": [
						"{'C_m': array([[5.],\n",
						"       [5.]]), 'g_L': array([[0.272],\n",
						"       [0.272]]), 'E_L': array([[-40.8],\n",
						"       [-40.8]])}\n"
					]
				},
				{
					"name": "stderr",
					"output_type": "stream",
					"text": [
						"No handles with labels found to put in legend.\n"
					]
				},
				{
					"data": {
						"text/plain": [
							"<Figure size 1008x432 with 1 Axes>"
						]
					},
					"metadata": {
						"needs_background": "light"
					},
					"output_type": "display_data"
				},
				{
					"data": {
						"text/plain": [
							"<Figure size 1008x216 with 1 Axes>"
						]
					},
					"metadata": {
						"needs_background": "light"
					},
					"output_type": "display_data"
				}
			],
			"source": [
				"g = 1.7511355\n",
				"m = -42.919064\n",
				"E = -86.07687\n",
				"s = 0.05\n",
				"\n",
				"g = 3\n",
				"# ps = {k: v[:,28].detach().numpy() for k,v in circuit._synapses.parameters.items()}\n",
				"ps = {'G': np.array([g,g]), 'mdp': np.array([m,m]), 'scale': np.array([0.05, 0.05]), 'E': np.array([E])}\n",
				"# print(ps)\n",
				"ps = {k: v[:,None] for k,v in ps.items()}\n",
				"n = LeakyIntegrate.create_default(2, 1, dt=0.1)\n",
				"print(n._param)\n",
				"s = ChemSyn([c[0] for c in connections], [c[1] for c in connections], \n",
				"                              init_p=ps, dt=DT)\n",
				"circ = Circuit(n, s)\n",
				"\n",
				"# plt.plot(i_f)\n",
				"# plt.show()\n",
				"plt.figure(figsize=(14,6))\n",
				"X = circ.calculate(i_f)\n",
				"\n",
				"plt.plot(X[:,0,0,:,0])\n",
				"sns.despine(bottom=True)\n",
				"# plt.axhline(-40.8, linestyle='--', color='r', label = 'resting potential')\n",
				"# plt.axhline(-42.92, linestyle='--', color='k', label = 'midpoint')\n",
				"plt.legend()\n",
				"plt.xticks([])\n",
				"plt.title('Voltage (mV)')\n",
				"plt.show()\n",
				"plt.figure(figsize=(14,3))\n",
				"\n",
				"l=0.8\n",
				"plt.plot(i_f[:,0], linewidth=l)\n",
				"plt.plot(i_f[:,1], linewidth=l)\n",
				"sns.despine()\n",
				"plt.show()\n"
			]
		},
		{
			"cell_type": "code",
			"execution_count": null,
			"metadata": {

			},
			"outputs": [],
			"source": []
		}
	],
	"metadata": {
		"kernelspec": {
			"display_name": "Python 3",
			"language": "python",
			"name": "python3"
		},
		"language_info": {
			"codemirror_mode": {
				"name": "ipython",
				"version": 3
			},
			"file_extension": ".py",
			"mimetype": "text/x-python",
			"name": "python",
			"nbconvert_exporter": "python",
			"pygments_lexer": "ipython3",
			"version": "3.6.7"
		}
	},
	"nbformat": 4,
	"nbformat_minor": 2
}