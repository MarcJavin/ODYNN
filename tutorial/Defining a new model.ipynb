{
 "cells": [
  {
   "cell_type": "markdown",
   "metadata": {},
   "source": [
    "## Create a new model"
   ]
  },
  {
   "cell_type": "code",
   "execution_count": 4,
   "metadata": {},
   "outputs": [
    {
     "name": "stderr",
     "output_type": "stream",
     "text": [
      "/usr/lib/python3.5/importlib/_bootstrap.py:222: RuntimeWarning: numpy.dtype size changed, may indicate binary incompatibility. Expected 96, got 88\n",
      "  return f(*args, **kwds)\n"
     ]
    }
   ],
   "source": [
    "\"\"\"\n",
    ".. module:: \n",
    "    :synopsis: Module doing stuff...\n",
    "\n",
    ".. moduleauthor:: Marc Javin\n",
    "\"\"\"\n",
    "\n",
    "from odynn.models.model import BioNeuron\n",
    "from odynn import utils\n",
    "from pylab import plt\n",
    "import random\n",
    "import numpy as np\n",
    "import tensorflow as tf\n",
    "\n",
    "\n",
    "# Class for our new model\n",
    "class LeakyIntegrate(BioNeuron):\n",
    "    # Membrane capacitance, leakage conductance and reversal potential\n",
    "    default_params = {'C_m': 1., 'g_L': 0.1, 'E_L': -60.}\n",
    "    # Initial value for the voltage\n",
    "    default_init_state = np.array([-60.])\n",
    "    # Constraints for optimization\n",
    "    _constraints_dic = {'C_m': [0.5, 40.],\n",
    "                        'g_L': [1e-9, 10.]}\n",
    "\n",
    "    def __init__(self, init_p, tensors=False, dt=0.1):\n",
    "        BioNeuron.__init__(self, init_p=init_p, tensors=tensors, dt=dt)\n",
    "\n",
    "    def _i_L(self, V):\n",
    "        return self._param['g_L'] * (self._param['E_L'] - V)\n",
    "\n",
    "    def step(self, X, i_inj):\n",
    "        # Update the voltage\n",
    "        V = X[0]\n",
    "        V = (V * (self._param['C_m'] / self.dt) + (i_inj + self._param['g_L'] * self._param['E_L'])) /\\\n",
    "            ((self._param['C_m'] / self.dt) + self._param['g_L'])\n",
    "        # For use of both Python and Tensorflow\n",
    "        if self._tensors:\n",
    "            return tf.stack([V])\n",
    "        else:\n",
    "            return np.array([V])\n",
    "\n",
    "    @staticmethod\n",
    "    def get_random():\n",
    "        # Useful later\n",
    "        return {'C_m': random.uniform(0.5, 40.),\n",
    "                'g_L': random.uniform(1e-5, 10.),\n",
    "                'E_L': random.uniform(-70., -45.)}\n",
    "\n",
    "    def plot_results(self, ts, i_inj_values, X, ca_true=None, suffix=\"\", show=True, save=False):\n",
    "\n",
    "        V = X[:,0]\n",
    "        il = self._i_L(V)\n",
    "\n",
    "        plt.figure()\n",
    "\n",
    "        plt.subplot(3, 1, 1)\n",
    "        plt.plot(ts, V, 'k')\n",
    "        plt.title('Leaky Integrator Neuron')\n",
    "        plt.ylabel('V (mV)')\n",
    "\n",
    "        plt.subplot(3, 1, 2)\n",
    "        plt.plot(ts, il, 'g', label='$I_{L}$')\n",
    "        plt.ylabel('Current')\n",
    "        plt.legend()\n",
    "\n",
    "        plt.subplot(3, 1, 3)\n",
    "        plt.plot(ts, i_inj_values, 'b')\n",
    "        plt.xlabel('t (ms)')\n",
    "        plt.ylabel('$I_{inj}$ ($\\\\mu{A}/cm^2$)')\n",
    "        # plt.ylim(-1, 40)\n",
    "\n",
    "        utils.save_show(show, save, name='Results_{}'.format(suffix), dpi=300)"
   ]
  },
  {
   "cell_type": "code",
   "execution_count": 6,
   "metadata": {},
   "outputs": [],
   "source": [
    "from odynn.models import cfg_model\n",
    "cfg_model.NEURON_MODEL = LeakyIntegrate\n",
    "\n",
    "from odynn import nsimul as ns\n",
    "import scipy as sp"
   ]
  },
  {
   "cell_type": "code",
   "execution_count": 7,
   "metadata": {},
   "outputs": [
    {
     "name": "stdout",
     "output_type": "stream",
     "text": [
      "___________Neuron Simulation____________\n",
      "Simulation time : 0.046761274337768555\n"
     ]
    },
    {
     "data": {
      "image/png": "[encoded data removed]",
      "text/plain": [
       "<Figure size 432x288 with 3 Axes>"
      ]
     },
     "metadata": {},
     "output_type": "display_data"
    },
    {
     "data": {
      "text/plain": [
       "[array([0.0000e+00, 1.0000e-01, 2.0000e-01, ..., 1.1997e+03, 1.1998e+03,\n",
       "        1.1999e+03]),\n",
       " array([0., 0., 0., ..., 0., 0., 0.]),\n",
       " [array([-60., -60., -60., ..., -60., -60., -60.])]]"
      ]
     },
     "execution_count": 7,
     "metadata": {},
     "output_type": "execute_result"
    }
   ],
   "source": [
    "t = sp.arange(0., 1200., 0.1)\n",
    "i = 40. * ((t > 400) & (t < 800))\n",
    "ns.simul(t=t, i_inj=i, show=True, save=False)"
   ]
  },
  {
   "cell_type": "code",
   "execution_count": null,
   "metadata": {},
   "outputs": [],
   "source": []
  }
 ],
 "metadata": {
  "kernelspec": {
   "display_name": "Python 3",
   "language": "python",
   "name": "python3"
  },
  "language_info": {
   "codemirror_mode": {
    "name": "ipython",
    "version": 3
   },
   "file_extension": ".py",
   "mimetype": "text/x-python",
   "name": "python",
   "nbconvert_exporter": "python",
   "pygments_lexer": "ipython3",
   "version": "3.5.2"
  }
 },
 "nbformat": 4,
 "nbformat_minor": 2
}
