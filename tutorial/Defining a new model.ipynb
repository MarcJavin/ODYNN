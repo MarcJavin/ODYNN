{
 "cells": [
  {
   "cell_type": "heading",
   "metadata": {},
   "level": 1,
   "source": [
    "# Create a new model"
   ]
  },
  {
   "cell_type": "code",
   "execution_count": 1,
   "metadata": {},
   "outputs": [],
   "source": [
    "from opthh.model import Model\n",
    "from pylab import plt\n",
    "\n",
    "# Class for our new model\n",
    "class Custom(Model):\n",
    "    \n",
    "    # Our model has membrane conductance as its only parameter\n",
    "    default_params = {'C_m' : 1., 'g_L' : 0.1, 'E_L' : 50.}\n",
    "    # Initial value for the voltage\n",
    "    _init_state = [0.]\n",
    "    \n",
    "    def __init__(self, init_p, tensors=False, dt=0.1):\n",
    "        Model.__init__(self, init_p=init_p, tensors=False, dt=0.1)\n",
    "        \n",
    "    def _i_L(self, V):\n",
    "        return self._param['g_L'] * (self._param['E_L'] - V)\n",
    "        \n",
    "    @staticmethod\n",
    "    def step_model(X, i_inj, self):\n",
    "        # Update the voltage\n",
    "        V = X[0]\n",
    "        V += self.dt * (i_inj + self._i_L(V)) / self._param['C_m']\n",
    "        return [V]\n",
    "        \n",
    "    @staticmethod\n",
    "    def get_random():\n",
    "        # Useful later\n",
    "        pass\n",
    "    \n",
    "    def plot_results(self, ts, i_inj_values, V, ca_true=None, suffix=\"\", show=True, save=False):\n",
    "        \n",
    "        il = self._i_L(V)\n",
    "        \n",
    "        plt.figure()\n",
    "\n",
    "        plt.subplot(3, 1, 1)\n",
    "        plt.plot(ts, V, 'k')\n",
    "        plt.title('Leaky Integrator Neuron')\n",
    "        plt.ylabel('V (mV)')\n",
    "        \n",
    "        plt.subplot(5, 1, 3)\n",
    "        plt.plot(ts, il, 'g', label='$I_{L}$')\n",
    "        plt.ylabel('Current')\n",
    "        plt.legend()\n",
    "\n",
    "        plt.subplot(3, 1, 3)\n",
    "        plt.plot(ts, i_inj_values, 'b')\n",
    "        plt.xlabel('t (ms)')\n",
    "        plt.ylabel('$I_{inj}$ ($\\\\mu{A}/cm^2$)')\n",
    "        # plt.ylim(-1, 40)\n",
    "\n",
    "        if save:\n",
    "            plt.savefig('{}results_{}.png'.format(DIR, suffix), dpi=300)\n",
    "        if show:\n",
    "            plt.show()\n",
    "        plt.close()\n",
    "        \n",
    "        "
   ]
  },
  {
   "cell_type": "code",
   "execution_count": 2,
   "metadata": {},
   "outputs": [],
   "source": [
    "from opthh import config\n",
    "config.NEURON_MODEL = Custom\n",
    "\n",
    "from opthh.neuronsimul import NeuronSimul\n",
    "import scipy as sp"
   ]
  },
  {
   "cell_type": "code",
   "execution_count": 3,
   "metadata": {},
   "outputs": [
    {
     "name": "stdout",
     "output_type": "stream",
     "text": [
      "0.09044766426086426\n"
     ]
    },
    {
     "data": {
      "image/png": "[encoded data removed]",
      "text/plain": [
       "<Figure size 432x288 with 3 Axes>"
      ]
     },
     "metadata": {},
     "output_type": "display_data"
    },
    {
     "data": {
      "text/plain": [
       "[array([0.0000e+00, 1.0000e-01, 2.0000e-01, ..., 1.1997e+03, 1.1998e+03,\n",
       "        1.1999e+03]),\n",
       " array([0., 0., 0., ..., 0., 0., 0.]),\n",
       " array([ 0.5    ,  0.995  ,  1.48505, ..., 50.     , 50.     , 50.     ]),\n",
       " array([ 0.5    ,  0.995  ,  1.48505, ..., 50.     , 50.     , 50.     ])]"
      ]
     },
     "execution_count": 3,
     "metadata": {},
     "output_type": "execute_result"
    }
   ],
   "source": [
    "t = sp.arange(0., 1200., 0.1)\n",
    "i = 40. * ((t > 400) & (t < 800))\n",
    "simul = NeuronSimul(t=t, i_inj=i)\n",
    "simul.simul(show=True, save=False)"
   ]
  },
  {
   "cell_type": "code",
   "execution_count": null,
   "metadata": {},
   "outputs": [],
   "source": []
  }
 ],
 "metadata": {
  "kernelspec": {
   "display_name": "Python 3",
   "language": "python",
   "name": "python3"
  },
  "language_info": {
   "codemirror_mode": {
    "name": "ipython",
    "version": 3
   },
   "file_extension": ".py",
   "mimetype": "text/x-python",
   "name": "python",
   "nbconvert_exporter": "python",
   "pygments_lexer": "ipython3",
   "version": "3.5.2"
  }
 },
 "nbformat": 4,
 "nbformat_minor": 2
}
