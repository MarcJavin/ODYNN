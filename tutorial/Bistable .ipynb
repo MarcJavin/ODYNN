{
 "cells": [
  {
   "cell_type": "code",
   "execution_count": 1,
   "metadata": {},
   "outputs": [],
   "source": [
    "%load_ext autoreload"
   ]
  },
  {
   "cell_type": "code",
   "execution_count": 35,
   "metadata": {},
   "outputs": [
    {
     "data": {
      "application/vnd.jupyter.widget-view+json": {
       "model_id": "9b95b1191b00402390c348a72bae9ffd",
       "version_major": 2,
       "version_minor": 0
      },
      "text/plain": [
       "interactive(children=(FloatSlider(value=0.0, description='g_gap', max=1.0), FloatSlider(value=0.5, description…"
      ]
     },
     "metadata": {},
     "output_type": "display_data"
    }
   ],
   "source": [
    "%autoreload 2\n",
    "import numpy as np\n",
    "import pylab as plt\n",
    "\n",
    "import odynn\n",
    "from odynn.circuit import Circuit\n",
    "from odynn.models import LeakyIntegrate, ChemSyn, GapJunction\n",
    "\n",
    "\n",
    "from ipywidgets import interact\n",
    "\n",
    "p = LeakyIntegrate.default_params\n",
    "dt = 20.\n",
    "\n",
    "@interact(g_gap = 0., g12=0.5, g21=0.5, mdp12=-40, mdp21=-40, scale12=0.01, scale21=0.01, E12=-80, E21=-80)\n",
    "def dual(g_gap, g12, g21, mdp12, mdp21, scale12, scale21, E12, E21):\n",
    "    connections = [(0,1) , (1,0)]\n",
    "    t = np.arange(0.0, 5000., dt)\n",
    "    i0 = np.array([10. *((t>i)&(t<i+500)) for i in range(0,5000,1000)]).sum(0)\n",
    "    i1 = np.array([10. *((t>i-500)&(t<i)) for i in range(1000,5000,1000)]).sum(0)\n",
    "    i_injs = np.stack((i0, i1), axis=1)[:,None,:,None]\n",
    "    \n",
    "    neur = {'C_m': np.array([[0.2], [0.2]]), \n",
    "            'g_L': np.array([[0.5], [0.5]]), \n",
    "            'E_L': np.array([[-50.], [-50.]])}\n",
    "    syns = {'G': np.array([[g12], [g21]]), \n",
    "            'mdp': np.array([[mdp12], [mdp21]]), \n",
    "            'scale': np.array([[scale12], [scale21]]), \n",
    "            'E': np.array([[E12], [E21]])}\n",
    "    gap = {'G_gap' : np.array([[g_gap]]),\n",
    "          'factor' : [[1]]}\n",
    "    n = LeakyIntegrate(init_p=neur)\n",
    "    s = ChemSyn([c[0] for c in connections], [c[1] for c in connections], init_p = syns)\n",
    "    g = GapJunction([0], [1], init_p=gap)\n",
    "    circuit = Circuit(n, s, g)\n",
    "    states = circuit.calculate(i_injs)\n",
    "    ax = plt.subplot(211)\n",
    "    plt.title('Voltage (mV)')\n",
    "    plt.plot(states[:,0,0,:,0])\n",
    "    ax.spines['right'].set_visible(False)\n",
    "    ax.spines['top'].set_visible(False)\n",
    "    ax = plt.subplot(212)\n",
    "    plt.plot(i_injs[:,0,:,0])\n",
    "    plt.xlabel('time (s)')\n",
    "    ax.spines['right'].set_visible(False)\n",
    "    ax.spines['top'].set_visible(False)\n",
    "    plt.show()\n",
    "    "
   ]
  },
  {
   "cell_type": "code",
   "execution_count": 3,
   "metadata": {},
   "outputs": [
    {
     "name": "stdout",
     "output_type": "stream",
     "text": [
      "tensor([0.8861, 0.6817, 0.2635, 0.0582, 0.2134])\n",
      "tensor([0.6000, 0.6000, 0.4000, 0.4000, 0.4000])\n"
     ]
    }
   ],
   "source": [
    "import torch\n",
    "\n",
    "torch.clip = torch.clamp\n",
    "\n",
    "a = torch.rand(5)\n",
    "print(a)\n",
    "print(torch.clip(a, 0.4, 0.6))"
   ]
  }
 ],
 "metadata": {
  "kernelspec": {
   "display_name": "Python 3",
   "language": "python",
   "name": "python3"
  },
  "language_info": {
   "codemirror_mode": {
    "name": "ipython",
    "version": 3
   },
   "file_extension": ".py",
   "mimetype": "text/x-python",
   "name": "python",
   "nbconvert_exporter": "python",
   "pygments_lexer": "ipython3",
   "version": "3.6.7"
  }
 },
 "nbformat": 4,
 "nbformat_minor": 2
}
