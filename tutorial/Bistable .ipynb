{
 "cells": [
  {
   "cell_type": "code",
   "execution_count": 2,
   "metadata": {},
   "outputs": [],
   "source": [
    "%load_ext autoreload"
   ]
  },
  {
   "cell_type": "code",
   "execution_count": 27,
   "metadata": {},
   "outputs": [
    {
     "data": {
      "application/vnd.jupyter.widget-view+json": {
       "model_id": "02c78ae212e54e148d05939f648eb5cc",
       "version_major": 2,
       "version_minor": 0
      },
      "text/plain": [
       "interactive(children=(FloatSlider(value=0.0, description='g_gap', max=1.0), FloatSlider(value=0.5, description…"
      ]
     },
     "metadata": {},
     "output_type": "display_data"
    }
   ],
   "source": [
    "%autoreload 2\n",
    "import numpy as np\n",
    "import pylab as plt\n",
    "\n",
    "import odynn\n",
    "from odynn.circuit import Circuit\n",
    "from odynn.models import LeakyIntegrate, ChemSyn, GapJunction\n",
    "\n",
    "\n",
    "from ipywidgets import interact\n",
    "\n",
    "p = LeakyIntegrate.default_params\n",
    "dt = 20.\n",
    "\n",
    "@interact(g_gap = 0., g12=0.5, g21=0.5, mdp12=-40, mdp21=-40, scale12=10, scale21=10, E12=-80, E21=-80)\n",
    "def dual(g_gap, g12, g21, mdp12, mdp21, scale12, scale21, E12, E21):\n",
    "    connections = [(0,1) , (1,0)]\n",
    "    t = np.arange(0.0, 5000., dt)\n",
    "    i0 = 20. *((t>900)&(t<1050))\n",
    "    i1 = 10.*((t>500)&(t<750)) #+ 20.*((t>700)&(t<750)) + 14*((t>1100)&(t<1800))+ 22*((t>1900)&(t<2000))\n",
    "    i_injs = np.array([i0, i1]).transpose()\n",
    "    \n",
    "    neur = {'C_m': np.array([[1.], [1.]]), \n",
    "            'g_L': np.array([[0.5], [0.5]]), \n",
    "            'E_L': np.array([[-40.], [-40.]])}\n",
    "    syns = {'G': np.array([[g12], [g21]]), \n",
    "            'mdp': np.array([[mdp12], [mdp21]]), \n",
    "            'scale': np.array([[scale12], [scale21]]), \n",
    "            'E': np.array([[E12], [E21]])}\n",
    "    gap = {'G_gap' : np.array([[g_gap]])}\n",
    "    n = LeakyIntegrate(init_p=neur)\n",
    "    s = ChemSyn([c[0] for c in connections], [c[1] for c in connections], init_p = syns)\n",
    "    g = GapJunction([0], [1], init_p=gap)\n",
    "    circuit = Circuit(n, s, g)\n",
    "    states = circuit.calculate(i_injs)\n",
    "    plt.subplot(211)\n",
    "    plt.plot(states[:,0,0,:,0])\n",
    "    plt.subplot(212)\n",
    "    plt.plot(i_injs)\n",
    "    plt.show()\n",
    "    "
   ]
  },
  {
   "cell_type": "code",
   "execution_count": null,
   "metadata": {},
   "outputs": [],
   "source": []
  }
 ],
 "metadata": {
  "kernelspec": {
   "display_name": "Python 3",
   "language": "python",
   "name": "python3"
  },
  "language_info": {
   "codemirror_mode": {
    "name": "ipython",
    "version": 3
   },
   "file_extension": ".py",
   "mimetype": "text/x-python",
   "name": "python",
   "nbconvert_exporter": "python",
   "pygments_lexer": "ipython3",
   "version": "3.6.7"
  }
 },
 "nbformat": 4,
 "nbformat_minor": 2
}
