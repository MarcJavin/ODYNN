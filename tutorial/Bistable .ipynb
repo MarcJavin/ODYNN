{
 "cells": [
  {
   "cell_type": "code",
   "execution_count": 15,
   "metadata": {},
   "outputs": [
    {
     "name": "stdout",
     "output_type": "stream",
     "text": [
      "The autoreload extension is already loaded. To reload it, use:\n",
      "  %reload_ext autoreload\n"
     ]
    },
    {
     "data": {
      "application/vnd.jupyter.widget-view+json": {
       "model_id": "2a428274040643ad8499d7103fcc39f5",
       "version_major": 2,
       "version_minor": 0
      },
      "text/plain": [
       "interactive(children=(Output(),), _dom_classes=('widget-interact',))"
      ]
     },
     "metadata": {},
     "output_type": "display_data"
    }
   ],
   "source": [
    "from __future__ import print_function\n",
    "\n",
    "%load_ext autoreload\n",
    "import numpy as np\n",
    "import pylab as plt\n",
    "%autoreload 2\n",
    "from odynn.circuit import Circuit\n",
    "from odynn.models import LeakyIntegrate\n",
    "\n",
    "\n",
    "from ipywidgets import interact\n",
    "\n",
    "p = LeakyIntegrate.default_params\n",
    "dt = 20.\n",
    "\n",
    "@interact()\n",
    "def dual():\n",
    "    connections = [(0,1) , (1,0)]\n",
    "    t = np.arange(0.0, 5000., dt)\n",
    "    i0 = 20. *((t>900)&(t<1050))\n",
    "    i1 = 10.*((t>500)&(t<750)) #+ 20.*((t>700)&(t<750)) + 14*((t>1100)&(t<1800))+ 22*((t>1900)&(t<2000))\n",
    "    i_injs = np.array([i0, i1]).transpose()\n",
    "    circuit = Circuit(connections, 'leakint', 'classic')\n",
    "    states = circuit.calculate(i_injs)\n",
    "    plt.subplot(211)\n",
    "    print(states.shape)\n",
    "    plt.plot(states[:,0,0,:,0])\n",
    "    plt.subplot(212)\n",
    "    plt.plot(i_injs)\n",
    "    plt.show()\n",
    "    "
   ]
  },
  {
   "cell_type": "code",
   "execution_count": null,
   "metadata": {},
   "outputs": [],
   "source": []
  }
 ],
 "metadata": {
  "kernelspec": {
   "display_name": "Python 3",
   "language": "python",
   "name": "python3"
  },
  "language_info": {
   "codemirror_mode": {
    "name": "ipython",
    "version": 3
   },
   "file_extension": ".py",
   "mimetype": "text/x-python",
   "name": "python",
   "nbconvert_exporter": "python",
   "pygments_lexer": "ipython3",
   "version": "3.6.7"
  }
 },
 "nbformat": 4,
 "nbformat_minor": 2
}
