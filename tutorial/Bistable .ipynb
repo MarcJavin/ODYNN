{
 "cells": [
  {
   "cell_type": "code",
   "execution_count": 1,
   "metadata": {},
   "outputs": [],
   "source": [
    "%load_ext autoreload"
   ]
  },
  {
   "cell_type": "code",
   "execution_count": 3,
   "metadata": {},
   "outputs": [
    {
     "data": {
      "application/vnd.jupyter.widget-view+json": {
       "model_id": "d4be1d7b8c96488188a39a79e65ba774",
       "version_major": 2,
       "version_minor": 0
      },
      "text/plain": [
       "interactive(children=(FloatSlider(value=0.5, description='g12', max=1.5, min=-0.5), FloatSlider(value=0.5, des…"
      ]
     },
     "metadata": {},
     "output_type": "display_data"
    }
   ],
   "source": [
    "%autoreload 2\n",
    "import numpy as np\n",
    "import pylab as plt\n",
    "\n",
    "import odynn\n",
    "from odynn.circuit import Circuit\n",
    "from odynn.models import LeakyIntegrate, ChemSyn\n",
    "\n",
    "\n",
    "from ipywidgets import interact\n",
    "\n",
    "p = LeakyIntegrate.default_params\n",
    "dt = 20.\n",
    "\n",
    "@interact(g12=0.5, g21=0.5, mdp12=-40, mdp21=-40, scale12=10, scale21=10, E12=-80, E21=-80)\n",
    "def dual(g12, g21, mdp12, mdp21, scale12, scale21, E12, E21):\n",
    "    connections = [(0,1) , (1,0)]\n",
    "    t = np.arange(0.0, 5000., dt)\n",
    "    i0 = 20. *((t>900)&(t<1050))\n",
    "    i1 = 10.*((t>500)&(t<750)) #+ 20.*((t>700)&(t<750)) + 14*((t>1100)&(t<1800))+ 22*((t>1900)&(t<2000))\n",
    "    i_injs = np.array([i0, i1]).transpose()\n",
    "    \n",
    "    syns = {'G': np.array([[g12], [g21]]), \n",
    "            'mdp': np.array([[mdp12], [mdp21]]), \n",
    "            'scale': np.array([[scale12], [scale21]]), \n",
    "            'E': np.array([[E12], [E21]])}\n",
    "    n = LeakyIntegrate.create_default(2)\n",
    "    s = ChemSyn([c[0] for c in connections], [c[1] for c in connections], init_p = syns)\n",
    "    circuit = Circuit(n, s)\n",
    "    states = circuit.calculate(i_injs)\n",
    "    plt.subplot(211)\n",
    "    plt.plot(states[:,0,0,:,0])\n",
    "    plt.subplot(212)\n",
    "    plt.plot(i_injs)\n",
    "    plt.show()\n",
    "    "
   ]
  },
  {
   "cell_type": "code",
   "execution_count": null,
   "metadata": {},
   "outputs": [],
   "source": []
  }
 ],
 "metadata": {
  "kernelspec": {
   "display_name": "Python 3",
   "language": "python",
   "name": "python3"
  },
  "language_info": {
   "codemirror_mode": {
    "name": "ipython",
    "version": 3
   },
   "file_extension": ".py",
   "mimetype": "text/x-python",
   "name": "python",
   "nbconvert_exporter": "python",
   "pygments_lexer": "ipython3",
   "version": "3.6.7"
  }
 },
 "nbformat": 4,
 "nbformat_minor": 2
}
