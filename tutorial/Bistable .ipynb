{
 "cells": [
  {
   "cell_type": "code",
   "execution_count": 41,
   "metadata": {},
   "outputs": [
    {
     "data": {
      "application/vnd.jupyter.widget-view+json": {
       "model_id": "2a047bef4e3240dcb925294e778108e5",
       "version_major": 2,
       "version_minor": 0
      },
      "text/plain": [
       "interactive(children=(FloatSlider(value=0.2, description='Gab', max=0.6000000000000001, min=-0.2), IntSlider(v…"
      ]
     },
     "metadata": {},
     "output_type": "display_data"
    }
   ],
   "source": [
    "from __future__ import print_function\n",
    "import numpy as np\n",
    "import pylab as plt\n",
    "\n",
    "from odynn.circuit import Circuit\n",
    "from odynn import datas\n",
    "from odynn.neuron import PyBioNeuron\n",
    "\n",
    "\n",
    "from ipywidgets import interact\n",
    "\n",
    "p = PyBioNeuron.default_params\n",
    "dt = 20.\n",
    "\n",
    "@interact(G=0.2, mdp=-60, scale=2., E=-80, Gba=0.2, mdp2=-60, scale2=2., E2=-80)\n",
    "def dual(Gab=0.2, mdpab=-60, scaleab=2., Eab=-80, Gba=0.2, mdpba=-60, scaleba=2., Eba=-80):\n",
    "    sab = {\n",
    "    'G': Gab,\n",
    "    'mdp': mdpab,\n",
    "    'scale': scaleab,\n",
    "    'E': Eab\n",
    "    }\n",
    "    sba = {\n",
    "    'G': Gba,\n",
    "    'mdp': mdpba,\n",
    "    'scale': scaleba,\n",
    "    'E': Eba\n",
    "    }\n",
    "    connections = {(0,1) : sab, (1,0) : sba}\n",
    "    t = np.arange(0.0, 5000., dt)\n",
    "    i0 = 20. *((t>900)&(t<1050))\n",
    "    i1 = 10.*((t>500)&(t<750)) #+ 20.*((t>700)&(t<750)) + 14*((t>1100)&(t<1800))+ 22*((t>1900)&(t<2000))\n",
    "    i_injs = np.array([i0, i1]).transpose()\n",
    "    circuit = Circuit(PyBioNeuron([p,p], dt=dt), synapses=connections)\n",
    "    states, curs = circuit.calculate(i_injs)\n",
    "    plt.subplot(211)\n",
    "    plt.plot(states[:,0])\n",
    "    plt.subplot(212)\n",
    "    plt.plot(i_injs)\n",
    "    plt.show()\n",
    "    "
   ]
  },
  {
   "cell_type": "code",
   "execution_count": null,
   "metadata": {},
   "outputs": [],
   "source": []
  }
 ],
 "metadata": {
  "kernelspec": {
   "display_name": "odynn",
   "language": "python",
   "name": "odynn"
  },
  "language_info": {
   "codemirror_mode": {
    "name": "ipython",
    "version": 3
   },
   "file_extension": ".py",
   "mimetype": "text/x-python",
   "name": "python",
   "nbconvert_exporter": "python",
   "pygments_lexer": "ipython3",
   "version": "3.6.7"
  }
 },
 "nbformat": 4,
 "nbformat_minor": 2
}
