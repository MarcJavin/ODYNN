{
 "cells": [
  {
   "cell_type": "code",
   "execution_count": null,
   "metadata": {},
   "outputs": [],
   "source": [
    "%load_ext autoreload\n",
    "%autoreload 2"
   ]
  },
  {
   "cell_type": "code",
   "execution_count": null,
   "metadata": {},
   "outputs": [],
   "source": [
    "\n",
    "import sys\n",
    "sys.path.insert(0, '..')\n",
    "from odynn.circuit import Circuit\n",
    "from odynn.models import LeakyIntegrate, ChemSyn, GapJunction\n",
    "import numpy as np\n",
    "import torch\n",
    "\n",
    "inputs = ['AVBL', 'AVBR', 'VA12', 'PVCR', 'PVCL', 'DVA']\n",
    "\n",
    "DT = 1\n",
    "N_parallel = 1\n",
    "\n",
    "def get_neur(dt = DT, par=N_parallel):\n",
    "    n = LeakyIntegrate.create_default(1, par, tensors=True, dt=dt)\n",
    "    return n\n"
   ]
  },
  {
   "cell_type": "code",
   "execution_count": null,
   "metadata": {},
   "outputs": [],
   "source": [
    "import data\n",
    "import pylab as plt\n",
    "import torch\n",
    "import seaborn as sns\n",
    "\n",
    "N_sets = 4\n",
    "plt.figure(figsize=(30,8))\n",
    "traces = np.zeros((4126, N_sets, len(inputs)))\n",
    "dt = torch.zeros(N_sets,1,1)\n",
    "for i,j in enumerate([0,1,2,4]):\n",
    "    allt = data.get_data(j)\n",
    "    allt['PVCR'] = np.zeros(allt.shape[0])\n",
    "    allt['PVCL'] = np.zeros(allt.shape[0])\n",
    "    traces[:allt.shape[0],i] = allt[inputs]\n",
    "    dt[i] = 4000 / allt.shape[0]\n",
    "    # sns.heatmap(traces.corr(), cmap='bwr', vmin=-1, vmax=1, annot=True)\n",
    "    plt.subplot(N_sets,1,i+1)\n",
    "    plt.plot(traces[:,i])\n",
    "\n",
    "plt.show()\n",
    "print(dt)"
   ]
  },
  {
   "cell_type": "code",
   "execution_count": null,
   "metadata": {},
   "outputs": [],
   "source": [
    "from tqdm import tqdm\n",
    "\n",
    "target = torch.Tensor(traces)[:,None,:,:,None]\n",
    "# target = torch.Tensor(np.repeat(traces.values[:400, :], 5, axis=0))[:,None,None,:,None]\n",
    "\n",
    "# ts = np.arange(0,400,1)\n",
    "# target = np.full(ts.shape, -60) + 20 * 100/(ts+1) * ((ts > 30) & (ts < 70)) + 100 * ((ts > 49) & (ts < 51)) + 130 * ((ts > 85) & (ts < 86))\n",
    "# target = torch.Tensor(target)[:,None,None,None,None]\n",
    "print(target.shape)\n",
    "# plt.plot()\n",
    "init = target[0]\n",
    "\n",
    "inj = torch.zeros((target.shape[0], N_sets, len(inputs), 1))\n",
    "inj.requires_grad = True\n",
    "\n",
    "neuron = get_neur(dt=dt)\n",
    "losses = []\n",
    "# Define loss function\n",
    "loss_fn = torch.nn.MSELoss(reduction='sum')\n",
    "learning_rate = 0.05\n",
    "optimizer = torch.optim.Adam([inj], lr=learning_rate)\n",
    "\n",
    "\n",
    "for t in tqdm(range(200)):\n",
    "    y = neuron.calculate(inj, init)\n",
    "    # Compute MSE\n",
    "    print(y.shape, target.shape)\n",
    "    loss = loss_fn(y, target)\n",
    "    losses.append(loss.item())\n",
    "\n",
    "    print(loss.item())\n",
    "    #Upgrade variables\n",
    "    optimizer.zero_grad()\n",
    "    loss.backward()\n",
    "    optimizer.step()\n",
    "    \n",
    "    if t%1 == 0:\n",
    "        for i in range(N_sets):\n",
    "            plt.subplot(311)\n",
    "            plt.plot(target[:,0,i,:,0].detach().numpy())\n",
    "            plt.subplot(312)\n",
    "            plt.plot(y[:,0,i,:,0].detach().numpy())\n",
    "            plt.subplot(313)\n",
    "            plt.plot(inj[:,i,:,0].detach().numpy())\n",
    "            plt.show()\n",
    "            plt.close()\n",
    "\n"
   ]
  },
  {
   "cell_type": "code",
   "execution_count": null,
   "metadata": {},
   "outputs": [],
   "source": [
    "import pickle\n",
    "\n",
    "with open('currents', 'wb') as f:\n",
    "    pickle.dump([inputs, inj.detach().numpy(), dt, neuron._param], f)"
   ]
  },
  {
   "cell_type": "code",
   "execution_count": null,
   "metadata": {},
   "outputs": [],
   "source": [
    "injtest = torch.zeros(400,1,10,1)\n",
    "injtest[:200] = 3\n",
    "\n",
    "neuron.dt = 1.\n",
    "\n",
    "neuron._param['C_m'] = 5\n",
    "\n",
    "y = neuron.calculate(injtest, init)\n",
    "\n",
    "plt.subplot(211)\n",
    "plt.plot(y[:,0,0,:,0].detach().numpy())\n",
    "plt.subplot(212)\n",
    "plt.plot(injtest[:,0,:,0].detach().numpy())\n",
    "plt.show()\n",
    "plt.close()"
   ]
  },
  {
   "cell_type": "code",
   "execution_count": null,
   "metadata": {},
   "outputs": [],
   "source": []
  }
 ],
 "metadata": {
  "kernelspec": {
   "display_name": "Python 3",
   "language": "python",
   "name": "python3"
  },
  "language_info": {
   "codemirror_mode": {
    "name": "ipython",
    "version": 3
   },
   "file_extension": ".py",
   "mimetype": "text/x-python",
   "name": "python",
   "nbconvert_exporter": "python",
   "pygments_lexer": "ipython3",
   "version": "3.6.7"
  }
 },
 "nbformat": 4,
 "nbformat_minor": 2
}
